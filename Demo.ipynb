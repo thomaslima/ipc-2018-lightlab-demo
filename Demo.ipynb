{
 "cells": [
  {
   "cell_type": "markdown",
   "metadata": {},
   "source": [
    "# IPC 2018 Lab instrumentation demo (lightlab package)\n",
    "\n",
    "This demo will teach you how to use _lightlab_ to communicate with instruments in your lab.\n",
    "\n",
    "In this example, we teach you step-by-step how to connect to an instrument that provides a [TCP/IP socket interface][1]). There are many examples of instruments like that, from providers like Keysight, Tektronix etc. Older instruments won't have the same features but will probably have GPIB, which can be interfaced via TCP/IP via hardware like [Prologix GPIB-Ethernet][2] or [National Instruments GPIB-ENET][3].\n",
    "\n",
    "[1]: https://en.wikipedia.org/wiki/Network_socket\n",
    "[2]: http://prologix.biz/gpib-ethernet-controller.html\n",
    "[3]: http://www.ni.com/en-us/support/model.gpib-enet-1000.html\n",
    "\n"
   ]
  },
  {
   "cell_type": "markdown",
   "metadata": {},
   "source": [
    "First, in order to communicate with an instrument, we need what is called a _driver_. Lightlab already has [many drivers][drivers] implemented, but here we will create a new one. This driver will belong to a class of _Source Meters_ ([lightlab.laboratory.instruments.bases.SourceMeter][sourcemeter]), which must implement 9 essential methods: `['startup', 'setCurrent', 'getCurrent', 'measVoltage', 'setProtectionVoltage', 'protectionVoltage', 'setProtectionCurrent', 'protectionCurrent', 'enable']`. Below I have written a basic driver for this demo current source.\n",
    "\n",
    "[drivers]: https://lightlab.readthedocs.io/en/master/API/lightlab.equipment.lab_instruments.html\n",
    "[sourcemeter]: https://lightlab.readthedocs.io/en/master/API/lightlab.laboratory.instruments.interfaces.html#lightlab.laboratory.instruments.interfaces.SourceMeter\n",
    "\n",
    "In the fictitious Demo Current Source manual, you see they provide some commands, like `ENABLE 1/0` to enable or disable the current source, or `CURR 0.2` to set the current to 0.2 amps or `VOLT?` to measure voltage drop across terminals. With this information, you should be able to quickly write a driver below. (This entire demo took me only a couple of hours to prepare)."
   ]
  },
  {
   "cell_type": "code",
   "execution_count": null,
   "metadata": {},
   "outputs": [],
   "source": [
    "from lightlab.laboratory.instruments import SourceMeter\n",
    "from ipcdemo import TCPInstrumentDriver\n",
    "\n",
    "\n",
    "class DemoCurrentSource(TCPInstrumentDriver):\n",
    "    '''Demo source meter connected to a diode.\n",
    "    \n",
    "    Written by @thomaslima for the lab hackaton in IPC 2018.\n",
    "    '''\n",
    "    instrument_category = SourceMeter\n",
    "    \n",
    "    def __init__(self, name='Demo SourceMeter', address=None):\n",
    "        super().__init__(name, address)\n",
    "    \n",
    "    def startup(self):\n",
    "        self.write('STARTUP')\n",
    "\n",
    "    def setCurrent(self, currAmps):\n",
    "        self.write('CURR {}'.format(currAmps))\n",
    "\n",
    "    def getCurrent(self):\n",
    "        return self.query('CURR?')\n",
    "\n",
    "    def measVoltage(self):\n",
    "        return float(self.query('VOLT?'))\n",
    "\n",
    "    def setProtectionVoltage(self, protectionVoltage):\n",
    "        return self.write('PROTVOLT {}'.format(protectionVoltage))\n",
    "\n",
    "    @property\n",
    "    def protectionVoltage(self):\n",
    "        return self.query('PROTVOLT?')\n",
    "\n",
    "    def setProtectionCurrent(self, protectionCurrent):\n",
    "        return self.write('PROTCURR {}'.format(protectionCurrent))\n",
    "\n",
    "    @property\n",
    "    def protectionCurrent(self):\n",
    "        return self.query('PROTCURR?')\n",
    "\n",
    "    def enable(self, enabled):\n",
    "        if enabled is True:\n",
    "            self.write('ENABLE 1')\n",
    "        else:\n",
    "            self.write('ENABLE 0')"
   ]
  },
  {
   "cell_type": "code",
   "execution_count": null,
   "metadata": {},
   "outputs": [],
   "source": [
    "# Here, zeus.local is the hostname of my computer.\n",
    "cs = DemoCurrentSource(address='TCPIP0::zeus.local::6501::SOCKET')"
   ]
  },
  {
   "cell_type": "markdown",
   "metadata": {},
   "source": [
    "Now, we assume that this current source is connected to a diode. Write code below using the methods of `DemoCurrentSource` that applies a current of 0.1 A to the diode and measures the voltage drop in the instrument. "
   ]
  },
  {
   "cell_type": "code",
   "execution_count": null,
   "metadata": {},
   "outputs": [],
   "source": []
  },
  {
   "cell_type": "markdown",
   "metadata": {},
   "source": [
    "So let's write a for loop to get an I-V trace. First let's do a quick and dirty diode plot, then we will use another sophisticated tool in lightlab, called the `Sweeper`. Click [here for a full explanation and tutorial](https://lightlab.readthedocs.io/en/master/_static/tutorials/sweeps/sweeps.html)."
   ]
  },
  {
   "cell_type": "code",
   "execution_count": null,
   "metadata": {},
   "outputs": [],
   "source": [
    "import numpy as np\n",
    "import matplotlib.pyplot as plt\n",
    "\n",
    "# make an array of 30 numbers between -0.1 and 0.5.\n",
    "curr_linspace = np.linspace(-0.1, 2, 30)\n",
    "\n",
    "# make an array like the first but filled with zeroes\n",
    "volt = np.zeros_like(curr_linspace)\n",
    "\n",
    "# set protection voltage\n",
    "cs.setProtectionVoltage(3)\n",
    "cs.enable(True)\n",
    "for idx, curr in enumerate(curr_linspace):\n",
    "    cs.setCurrent(curr)\n",
    "    volt[idx] = x.measVoltage()\n",
    "cs.enable(False)\n",
    "\n",
    "plt.plot(volt, curr_linspace, '.-')\n",
    "plt.title('I-V curve')\n",
    "plt.ylabel('I (A)')\n",
    "plt.xlabel('V (V)')\n",
    "plt.show()"
   ]
  },
  {
   "cell_type": "markdown",
   "metadata": {},
   "source": [
    "Same thing but with the sweeper. Notice that we will do it in two steps. First we logically program the sweeper with its definitions, then we execute in the following cell. This becomes very useful for more complex or more repetitive sweeps."
   ]
  },
  {
   "cell_type": "code",
   "execution_count": null,
   "metadata": {},
   "outputs": [],
   "source": [
    "from lightlab.util.sweep import NdSweeper\n",
    "\n",
    "# defining the sweep (3 lines)\n",
    "IV_sweeper = NdSweeper()\n",
    "IV_sweeper.addActuation('current', cs.setCurrent, np.linspace(-0.2, 0.4, 30))\n",
    "IV_sweeper.addMeasurement('voltage', cs.measVoltage)\n",
    "IV_sweeper.setMonitorOptions(stdoutPrint=False, livePlot=True)"
   ]
  },
  {
   "cell_type": "code",
   "execution_count": null,
   "metadata": {},
   "outputs": [],
   "source": [
    "# Gathering data\n",
    "# # First, prepare your instruments\n",
    "cs.setProtectionVoltage(3)\n",
    "cs.enable(True)\n",
    "\n",
    "# # Second, run the sweep. Make sure you use a try...except...finally statement to catch \n",
    "#   any errors and shut down your experiment properly!\n",
    "try:\n",
    "    IV_sweeper.gather()\n",
    "    IV_sweeper.saveObj('IV_sweep_1')  # saves into a file called IV_sweep_1.pkl\n",
    "finally:\n",
    "    # this line runs whether or not the statements inside try throw an error. :)\n",
    "    cs.enable(False)"
   ]
  },
  {
   "cell_type": "code",
   "execution_count": null,
   "metadata": {},
   "outputs": [],
   "source": [
    "# You can access the collected data easily for replotting or transformation.\n",
    "# Data are stored in numpy arrays inside IV_sweeper.data\n",
    "current = IV_sweeper.data['current']\n",
    "voltage = IV_sweeper.data['voltage']\n",
    "plt.plot(voltage, current, '.-')\n",
    "plt.title('I-V curve')\n",
    "plt.ylabel('I (A)')\n",
    "plt.xlabel('V (V)')\n",
    "plt.show()"
   ]
  },
  {
   "cell_type": "code",
   "execution_count": null,
   "metadata": {},
   "outputs": [],
   "source": [
    "from lightlab.util.sweep import NdSweeper\n",
    "\n",
    "# You can always reload data from the saved file, in case you \n",
    "# no longer have access to the instrument/experiment:\n",
    "# If you receive a warning, ignore for now\n",
    "\n",
    "IV_sweeper_recovered = NdSweeper.loadObj('IV_sweep_1', IV_sweeper)\n",
    "IV_sweeper_recovered.plot()"
   ]
  },
  {
   "cell_type": "markdown",
   "metadata": {},
   "source": [
    "## That's it for now. \n",
    "\n",
    "If you want to learn more or contribute, visit https://lightlab.readthedocs.io and https://github.com/lightwave-lab/lightlab."
   ]
  },
  {
   "cell_type": "code",
   "execution_count": null,
   "metadata": {},
   "outputs": [],
   "source": []
  }
 ],
 "metadata": {
  "kernelspec": {
   "display_name": "Python 3",
   "language": "python",
   "name": "python3"
  },
  "language_info": {
   "codemirror_mode": {
    "name": "ipython",
    "version": 3
   },
   "file_extension": ".py",
   "mimetype": "text/x-python",
   "name": "python",
   "nbconvert_exporter": "python",
   "pygments_lexer": "ipython3",
   "version": "3.7.0"
  }
 },
 "nbformat": 4,
 "nbformat_minor": 2
}
